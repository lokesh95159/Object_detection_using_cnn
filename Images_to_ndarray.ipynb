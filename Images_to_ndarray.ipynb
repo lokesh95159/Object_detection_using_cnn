{
  "nbformat": 4,
  "nbformat_minor": 0,
  "metadata": {
    "colab": {
      "provenance": []
    },
    "kernelspec": {
      "name": "python3",
      "display_name": "Python 3"
    },
    "language_info": {
      "name": "python"
    }
  },
  "cells": [
    {
      "cell_type": "markdown",
      "source": [
        "**Code To convert images into ndarrays**"
      ],
      "metadata": {
        "id": "Nl1_q03RSaIS"
      }
    },
    {
      "cell_type": "code",
      "source": [
        "import os\n",
        "from PIL import Image\n",
        "import numpy as np\n",
        "folder_path = \"/content/drive/MyDrive/cats\"\n",
        "# List the files and subdirectories in the folder\n",
        "contents = os.listdir(folder_path)\n",
        "images_path=[]\n",
        "for item in contents:\n",
        "    try:\n",
        "      image=Image.open(\"/content/drive/MyDrive/cats\"+\"/\"+item)\n",
        "    except:\n",
        "      continue\n",
        "    # Convert the image to a NumPy array\n",
        "    image_array = np.array(image)\n",
        "    # Now, `image_array` is a NumPy ndarray containing the image data\n",
        "    images_path.append(image_array)\n",
        "# Number of images successfully converted into ndarray\n",
        "print(len(images_path))\n",
        "# Number of images actually there in folder\n",
        "print(len([i for i in contents]))"
      ],
      "metadata": {
        "colab": {
          "base_uri": "https://localhost:8080/"
        },
        "id": "mPueH2UMOj34",
        "outputId": "7425ec50-87cb-44f9-c18c-5ea9bd13b2ff"
      },
      "execution_count": 13,
      "outputs": [
        {
          "output_type": "stream",
          "name": "stdout",
          "text": [
            "1050\n",
            "1051\n"
          ]
        }
      ]
    }
  ]
}